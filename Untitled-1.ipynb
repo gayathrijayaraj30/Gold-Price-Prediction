{
 "cells": [
  {
   "cell_type": "code",
   "execution_count": 2,
   "metadata": {},
   "outputs": [
    {
     "name": "stderr",
     "output_type": "stream",
     "text": [
      "C:\\Users\\gayat\\AppData\\Local\\Temp/ipykernel_12472/2205481798.py:17: FutureWarning: DataFrame.mean and DataFrame.median with numeric_only=None will include datetime64 and datetime64tz columns in a future version.\n",
      "  data.fillna(data.median(), inplace=True)\n"
     ]
    },
    {
     "name": "stdout",
     "output_type": "stream",
     "text": [
      "Mean Squared Error (Random Forest): 0.07696078502614162\n",
      "Mean Squared Error (Gradient Boosting): 0.06488662010408315\n",
      "Mean Squared Error (Support Vector Regression): 224.4113396754919\n",
      "\n",
      "Feature Importance:\n",
      "        Feature    Importance\n",
      "3    Adj Close  4.426803e-01\n",
      "1         High  2.068085e-01\n",
      "0         Open  1.783913e-01\n",
      "2          Low  1.701096e-01\n",
      "11     DJ_open  2.219335e-04\n",
      "..         ...           ...\n",
      "54   PLT_Trend  3.074565e-07\n",
      "59   PLD_Trend  3.072528e-07\n",
      "44    SF_Trend  2.499458e-07\n",
      "33    OF_Trend  2.439267e-07\n",
      "66  USDI_Trend  1.560655e-07\n",
      "\n",
      "[79 rows x 2 columns]\n"
     ]
    }
   ],
   "source": [
    "import pandas as pd\n",
    "import numpy as np\n",
    "from sklearn.model_selection import train_test_split\n",
    "from sklearn.ensemble import RandomForestRegressor, GradientBoostingRegressor\n",
    "from sklearn.svm import SVR\n",
    "from sklearn.metrics import mean_squared_error\n",
    "\n",
    "# Load dataset (replace 'file_path' with your actual file path)\n",
    "file_path = r\"F:\\E Drive\\VIT\\SEM 8\\SET\\data\\FINAL_USO.csv\"\n",
    "data = pd.read_csv(file_path)\n",
    "\n",
    "# Data preprocessing\n",
    "# Convert Date to datetime format\n",
    "data['Date'] = pd.to_datetime(data['Date'])\n",
    "\n",
    "# Fill missing values (if any) with median values\n",
    "data.fillna(data.median(), inplace=True)\n",
    "\n",
    "# Feature and target selection\n",
    "# Target: Gold Close Price ('Close')\n",
    "# Features: Exclude 'Date' and 'Close' columns\n",
    "X = data.drop(columns=['Date', 'Close'])\n",
    "y = data['Close']\n",
    "\n",
    "# Train-test split\n",
    "X_train, X_test, y_train, y_test = train_test_split(X, y, test_size=0.2, random_state=42)\n",
    "\n",
    "# Model initialization\n",
    "rf_model = RandomForestRegressor(random_state=42)\n",
    "gb_model = GradientBoostingRegressor(random_state=42)\n",
    "svr_model = SVR()\n",
    "\n",
    "# Train models\n",
    "rf_model.fit(X_train, y_train)\n",
    "gb_model.fit(X_train, y_train)\n",
    "svr_model.fit(X_train, y_train)\n",
    "\n",
    "# Make predictions\n",
    "y_pred_rf = rf_model.predict(X_test)\n",
    "y_pred_gb = gb_model.predict(X_test)\n",
    "y_pred_svr = svr_model.predict(X_test)\n",
    "\n",
    "# Evaluate models\n",
    "mse_rf = mean_squared_error(y_test, y_pred_rf)\n",
    "mse_gb = mean_squared_error(y_test, y_pred_gb)\n",
    "mse_svr = mean_squared_error(y_test, y_pred_svr)\n",
    "\n",
    "print(\"Mean Squared Error (Random Forest):\", mse_rf)\n",
    "print(\"Mean Squared Error (Gradient Boosting):\", mse_gb)\n",
    "print(\"Mean Squared Error (Support Vector Regression):\", mse_svr)\n",
    "\n",
    "# Feature importance from Random Forest\n",
    "feature_importance = pd.DataFrame({\n",
    "    'Feature': X.columns,\n",
    "    'Importance': rf_model.feature_importances_\n",
    "}).sort_values(by='Importance', ascending=False)\n",
    "\n",
    "print(\"\\nFeature Importance:\\n\", feature_importance)\n",
    "\n",
    "# Save feature importance to a CSV file\n",
    "feature_importance.to_csv(\"feature_importance.csv\", index=False)"
   ]
  },
  {
   "cell_type": "code",
   "execution_count": null,
   "metadata": {},
   "outputs": [],
   "source": []
  }
 ],
 "metadata": {
  "kernelspec": {
   "display_name": "base",
   "language": "python",
   "name": "python3"
  },
  "language_info": {
   "codemirror_mode": {
    "name": "ipython",
    "version": 3
   },
   "file_extension": ".py",
   "mimetype": "text/x-python",
   "name": "python",
   "nbconvert_exporter": "python",
   "pygments_lexer": "ipython3",
   "version": "3.9.7"
  }
 },
 "nbformat": 4,
 "nbformat_minor": 2
}
